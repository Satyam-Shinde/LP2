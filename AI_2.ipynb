{
 "cells": [
  {
   "cell_type": "code",
   "execution_count": 1,
   "id": "898b641d",
   "metadata": {},
   "outputs": [],
   "source": [
    "from collections import deque\n",
    "\n",
    "class Graph:\n",
    "    def __init__(self, adjacency_list):\n",
    "        self.adjacency_list = adjacency_list\n",
    "\n",
    "    def get_neighbors(self, v):\n",
    "        return self.adjacency_list[v]\n",
    "\n",
    "    def h(self, n):\n",
    "        H = {\n",
    "            'A': 3,\n",
    "            'B': 4,\n",
    "            'C': 2,\n",
    "            'D': 6,\n",
    "            'G': 0,\n",
    "            'S': 5\n",
    "        }\n",
    "        return H[n]\n",
    "\n",
    "    def a_star_algorithm(self, start_node, stop_node):\n",
    "        open_list = set([start_node])\n",
    "        closed_list = set()\n",
    "        g = {start_node: 0}\n",
    "        parents = {start_node: start_node}\n",
    "\n",
    "        while open_list:\n",
    "            n = None\n",
    "\n",
    "            for v in open_list:\n",
    "                if n is None or g[v] + self.h(v) < g[n] + self.h(n):\n",
    "                    n = v\n",
    "\n",
    "            if n is None:\n",
    "                print('Path does not exist!')\n",
    "                return None\n",
    "\n",
    "            if n == stop_node:\n",
    "                reconst_path = []\n",
    "                while parents[n] != n:\n",
    "                    reconst_path.append(n)\n",
    "                    n = parents[n]\n",
    "                reconst_path.append(start_node)\n",
    "                reconst_path.reverse()\n",
    "                print('Path found: {}'.format(reconst_path))\n",
    "                return reconst_path\n",
    "\n",
    "            for (m, weight) in self.get_neighbors(n):\n",
    "                if m not in open_list and m not in closed_list:\n",
    "                    open_list.add(m)\n",
    "                    parents[m] = n\n",
    "                    g[m] = g[n] + weight\n",
    "                else:\n",
    "                    if g[m] > g[n] + weight:\n",
    "                        g[m] = g[n] + weight\n",
    "                        parents[m] = n\n",
    "                        if m in closed_list:\n",
    "                            closed_list.remove(m)\n",
    "                            open_list.add(m)\n",
    "\n",
    "            open_list.remove(n)\n",
    "            closed_list.add(n)\n",
    "\n",
    "        print('Path does not exist!')\n",
    "        return None\n"
   ]
  },
  {
   "cell_type": "code",
   "execution_count": 2,
   "id": "3ee22d08",
   "metadata": {},
   "outputs": [
    {
     "name": "stdout",
     "output_type": "stream",
     "text": [
      "Path found: ['S', 'A', 'C', 'G']\n"
     ]
    },
    {
     "data": {
      "text/plain": [
       "['S', 'A', 'C', 'G']"
      ]
     },
     "execution_count": 2,
     "metadata": {},
     "output_type": "execute_result"
    }
   ],
   "source": [
    "adjacency_list = {\n",
    "    'A': [('B', 2), ('C', 1)],\n",
    "    'B': [('D', 5)],\n",
    "    'C': [('D', 3), ('G', 4)],\n",
    "    'D': [('G', 2)],\n",
    "    'S': [('A', 1), ('G', 10)]\n",
    "}\n",
    "\n",
    "graph1 = Graph(adjacency_list)\n",
    "graph1.a_star_algorithm('S', 'G')\n"
   ]
  },
  {
   "cell_type": "code",
   "execution_count": 1,
   "id": "e7a2f1dc",
   "metadata": {},
   "outputs": [],
   "source": [
    "import numpy as np\n",
    "from copy import deepcopy\n",
    "import time"
   ]
  },
  {
   "cell_type": "code",
   "execution_count": 2,
   "id": "cbff6906",
   "metadata": {},
   "outputs": [],
   "source": [
    "def misplaced_tiles(puzzle, goal):\n",
    "    return sum([1 if puzzle[i] != goal[i] and puzzle[i] != 0 else 0 for i in range(9)])"
   ]
  },
  {
   "cell_type": "code",
   "execution_count": 3,
   "id": "134bb5ab",
   "metadata": {},
   "outputs": [],
   "source": [
    "def bestsolution(state):\n",
    "    bestsol = []\n",
    "    current = len(state) - 1\n",
    "    while current != -1:\n",
    "        bestsol.insert(0, np.array(state[current]['puzzle']).reshape(3, 3))\n",
    "        current = state[current]['parent']\n",
    "    return bestsol"
   ]
  },
  {
   "cell_type": "code",
   "execution_count": 4,
   "id": "44dce81f",
   "metadata": {},
   "outputs": [],
   "source": [
    "def evaluvate_misplaced(puzzle, goal):\n",
    "    steps = [\n",
    "        ('up', [0, 1, 2], -3),\n",
    "        ('down', [6, 7, 8], 3),\n",
    "        ('left', [0, 3, 6], -1),\n",
    "        ('right', [2, 5, 8], 1)\n",
    "    ]\n",
    "    \n",
    "    dtstate = [('puzzle', list), ('parent', int), ('gn', int), ('hn', int)]\n",
    "    dtpriority = [('position', int), ('fn', int)]\n",
    "\n",
    "    parent = -1\n",
    "    gn = 0\n",
    "    hn = misplaced_tiles(puzzle, goal)\n",
    "    state = np.array([(puzzle, parent, gn, hn)], dtype=dtstate)\n",
    "    priority = np.array([(0, hn)], dtype=dtpriority)\n",
    "\n",
    "    while True:\n",
    "        priority = np.sort(priority, kind='mergesort', order=['fn', 'position'])\n",
    "        position, fn = priority[0]\n",
    "        priority = np.delete(priority, 0, 0)\n",
    "\n",
    "        puzzle, parent, gn, hn = state[position]\n",
    "        puzzle = list(puzzle)\n",
    "        blank = puzzle.index(0)\n",
    "        gn = gn + 1\n",
    "\n",
    "        for move, pos, offset in steps:\n",
    "            if blank in pos:\n",
    "                continue\n",
    "            new_puzzle = puzzle.copy()\n",
    "            new_puzzle[blank], new_puzzle[blank + offset] = new_puzzle[blank + offset], new_puzzle[blank]\n",
    "            \n",
    "            if any((np.array_equal(np.array(s['puzzle']), np.array(new_puzzle))) for s in state):\n",
    "                continue\n",
    "            \n",
    "            hn = misplaced_tiles(new_puzzle, goal)\n",
    "            state = np.append(state, np.array([(new_puzzle, position, gn, hn)], dtype=dtstate))\n",
    "            fn = gn + hn\n",
    "            priority = np.append(priority, np.array([(len(state) - 1, fn)], dtype=dtpriority))\n",
    "\n",
    "            if new_puzzle == goal:\n",
    "                print(\"The 8 puzzle is solvable.\\n\")\n",
    "                return state\n",
    "\n",
    "        if len(priority) == 0:\n",
    "            print(\"The 8 puzzle is unsolvable.\\n\")\n",
    "            return state"
   ]
  },
  {
   "cell_type": "code",
   "execution_count": 5,
   "id": "4b2231d3",
   "metadata": {},
   "outputs": [
    {
     "name": "stdout",
     "output_type": "stream",
     "text": [
      "The 8 puzzle is solvable.\n",
      "\n",
      "\n",
      "Step 0:\n",
      "[[2 8 3]\n",
      " [1 6 4]\n",
      " [7 0 5]]\n",
      "\n",
      "Step 1:\n",
      "[[2 8 3]\n",
      " [1 0 4]\n",
      " [7 6 5]]\n",
      "\n",
      "Step 2:\n",
      "[[2 0 3]\n",
      " [1 8 4]\n",
      " [7 6 5]]\n",
      "\n",
      "Step 3:\n",
      "[[0 2 3]\n",
      " [1 8 4]\n",
      " [7 6 5]]\n",
      "\n",
      "Step 4:\n",
      "[[1 2 3]\n",
      " [0 8 4]\n",
      " [7 6 5]]\n",
      "\n",
      "Step 5:\n",
      "[[1 2 3]\n",
      " [8 0 4]\n",
      " [7 6 5]]\n",
      "\n",
      "Total Steps to reach goal: 5\n"
     ]
    }
   ],
   "source": [
    "puzzle = [2, 8, 3,\n",
    "          1, 6, 4,\n",
    "          7, 0, 5]\n",
    "\n",
    "goal = [1, 2, 3,\n",
    "        8, 0, 4,\n",
    "        7, 6, 5]\n",
    "\n",
    "state = evaluvate_misplaced(puzzle, goal)\n",
    "bestpath = bestsolution(state)\n",
    "\n",
    "for i, step in enumerate(bestpath):\n",
    "    print(f\"\\nStep {i}:\\n{step}\")\n",
    "\n",
    "print(\"\\nTotal Steps to reach goal:\", len(bestpath) - 1)"
   ]
  }
 ],
 "metadata": {
  "kernelspec": {
   "display_name": "base",
   "language": "python",
   "name": "python3"
  },
  "language_info": {
   "codemirror_mode": {
    "name": "ipython",
    "version": 3
   },
   "file_extension": ".py",
   "mimetype": "text/x-python",
   "name": "python",
   "nbconvert_exporter": "python",
   "pygments_lexer": "ipython3",
   "version": "3.12.7"
  }
 },
 "nbformat": 4,
 "nbformat_minor": 5
}
